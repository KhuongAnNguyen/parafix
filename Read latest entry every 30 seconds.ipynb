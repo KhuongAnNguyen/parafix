{
 "cells": [
  {
   "cell_type": "code",
   "execution_count": null,
   "metadata": {},
   "outputs": [],
   "source": [
    "import csv\n",
    "import datetime as datetime\n",
    "from datetime import date\n",
    "from datetime import time\n",
    "import matplotlib.pyplot as plt\n",
    "import numpy as np\n",
    "import pandas as pd\n",
    "import os\n",
    "from time import time, sleep"
   ]
  },
  {
   "cell_type": "code",
   "execution_count": null,
   "metadata": {},
   "outputs": [],
   "source": [
    "# read every [interval] seconds\n",
    "interval = 30; # 30 seconds\n",
    "while True:    \n",
    "    sleep(interval - time() % interval);\n",
    "    \n",
    "    R16 = pd.read_csv(r\"21012612.csv\");    \n",
    "    #R16.head()\n",
    "\n",
    "    R16.rename(columns={'System.CurrentProgramName': 'Product_name'}, inplace=True);\n",
    "    R16_modified = R16.drop(R16.columns[[5, 6, 7, 8, 9, 11, 12, 13, 15]], axis=1);\n",
    "    #R16_modified.head()\n",
    "\n",
    "    latest_record_2 = R16_modified.iloc[[-1]];\n",
    "    print(latest_record_2);"
   ]
  },
  {
   "cell_type": "code",
   "execution_count": null,
   "metadata": {},
   "outputs": [],
   "source": []
  }
 ],
 "metadata": {
  "kernelspec": {
   "display_name": "Python 3",
   "language": "python",
   "name": "python3"
  },
  "language_info": {
   "codemirror_mode": {
    "name": "ipython",
    "version": 3
   },
   "file_extension": ".py",
   "mimetype": "text/x-python",
   "name": "python",
   "nbconvert_exporter": "python",
   "pygments_lexer": "ipython3",
   "version": "3.8.5"
  }
 },
 "nbformat": 4,
 "nbformat_minor": 4
}
