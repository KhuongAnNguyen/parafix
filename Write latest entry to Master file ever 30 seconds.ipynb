{
 "cells": [
  {
   "cell_type": "code",
   "execution_count": null,
   "metadata": {},
   "outputs": [],
   "source": [
    "import csv\n",
    "import datetime as datetime\n",
    "from datetime import date\n",
    "from datetime import time\n",
    "import matplotlib.pyplot as plt\n",
    "import numpy as np\n",
    "import pandas as pd\n",
    "import os\n",
    "from time import time, sleep"
   ]
  },
  {
   "cell_type": "code",
   "execution_count": null,
   "metadata": {},
   "outputs": [],
   "source": [
    "# write to Master file every [interval] seconds\n",
    "fd = open('Master_file.csv','a');\n",
    "\n",
    "interval = 30; # 30 seconds\n",
    "\n",
    "current_line = \"\";\n",
    "\n",
    "while True:    \n",
    "    sleep(interval - time() % interval);\n",
    "    \n",
    "    with open(\"21012612.csv\", \"r\") as f1:\n",
    "        last_line = f1.readlines()[-1];\n",
    "        f1.close();\n",
    "    \n",
    "    if (current_line != last_line):    \n",
    "        current_line = last_line;\n",
    "        fd.write(last_line);\n",
    "        fd.flush();\n",
    "        print(last_line);"
   ]
  },
  {
   "cell_type": "code",
   "execution_count": null,
   "metadata": {},
   "outputs": [],
   "source": []
  }
 ],
 "metadata": {
  "kernelspec": {
   "display_name": "Python 3",
   "language": "python",
   "name": "python3"
  },
  "language_info": {
   "codemirror_mode": {
    "name": "ipython",
    "version": 3
   },
   "file_extension": ".py",
   "mimetype": "text/x-python",
   "name": "python",
   "nbconvert_exporter": "python",
   "pygments_lexer": "ipython3",
   "version": "3.8.5"
  }
 },
 "nbformat": 4,
 "nbformat_minor": 4
}
